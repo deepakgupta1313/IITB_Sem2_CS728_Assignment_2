{
 "cells": [
  {
   "cell_type": "code",
   "execution_count": 5,
   "metadata": {
    "collapsed": true
   },
   "outputs": [],
   "source": [
    "import re\n",
    "import nltk\n",
    "\n",
    "folder=\"Outputs/\";\n",
    "\n",
    "tag_to_id={};\n",
    "id_to_tag={};\n",
    "num_of_tags=0;\n",
    "\n",
    "with open(folder+'tags.txt') as infile:\n",
    "    for linee in infile:\n",
    "        if len(linee)>0:\n",
    "            linee=linee.rstrip('\\n');\n",
    "            num_of_tags=num_of_tags+1;\n",
    "            tag_to_id[linee]=num_of_tags;\n",
    "            id_to_tag[num_of_tags]=linee;\n",
    "\n",
    "#print(num_of_tags)\n",
    "#print(tag_to_id)"
   ]
  },
  {
   "cell_type": "code",
   "execution_count": 6,
   "metadata": {},
   "outputs": [],
   "source": [
    "with open(folder+'test4_01.outtags') as infile:\n",
    "    tempp=infile.read();\n",
    "    tempp.rstrip('\\n');\n",
    "    tempp=tempp.split(' ');\n",
    "    tempp=list(filter(lambda x: x!='{' and x!='}' and x!='}{', tempp))\n",
    "    with open(folder+\"test4_01.ids\",'w') as outfile:\n",
    "        for elem in tempp:\n",
    "            id=tag_to_id[elem];\n",
    "            outfile.write(str(id)+\"\\n\");"
   ]
  },
  {
   "cell_type": "code",
   "execution_count": 7,
   "metadata": {},
   "outputs": [],
   "source": [
    "test_Y=[];\n",
    "\n",
    "with open(folder+'test2.txt') as infile:\n",
    "    for linee in infile:\n",
    "        linee=[nltk.tag.str2tuple(t) for t in linee.split()];\n",
    "        for i in range(len(linee)):\n",
    "            tagg=linee[i][1];\n",
    "            id=tag_to_id[tagg];\n",
    "            test_Y.append(int(id));\n",
    "\n",
    "#print(test_X)\n",
    "#print(test_Y)"
   ]
  },
  {
   "cell_type": "code",
   "execution_count": 8,
   "metadata": {},
   "outputs": [],
   "source": [
    "with open(folder+'test4_00.ids','w') as outfile:\n",
    "    for elem in test_Y:\n",
    "        outfile.write(str(elem)+\"\\n\");"
   ]
  },
  {
   "cell_type": "code",
   "execution_count": 9,
   "metadata": {},
   "outputs": [],
   "source": [
    "with open(folder+'test4_02.outtags') as infile:\n",
    "    tempp=infile.read();\n",
    "    tempp.rstrip('\\n');\n",
    "    tempp=tempp.split(' ');\n",
    "    tempp=list(filter(lambda x: x!='{' and x!='}' and x!='}{', tempp))\n",
    "    with open(folder+\"test4_02.ids\",'w') as outfile:\n",
    "        for elem in tempp:\n",
    "            id=tag_to_id[elem];\n",
    "            outfile.write(str(id)+\"\\n\");"
   ]
  },
  {
   "cell_type": "code",
   "execution_count": 10,
   "metadata": {},
   "outputs": [],
   "source": [
    "with open(folder+'test4_03.outtags') as infile:\n",
    "    tempp=infile.read();\n",
    "    tempp.rstrip('\\n');\n",
    "    tempp=tempp.split(' ');\n",
    "    tempp=list(filter(lambda x: x!='{' and x!='}' and x!='}{', tempp))\n",
    "    with open(folder+\"test4_03.ids\",'w') as outfile:\n",
    "        for elem in tempp:\n",
    "            id=tag_to_id[elem];\n",
    "            outfile.write(str(id)+\"\\n\");"
   ]
  },
  {
   "cell_type": "code",
   "execution_count": null,
   "metadata": {},
   "outputs": [],
   "source": [
    ""
   ]
  }
 ],
 "metadata": {
  "kernelspec": {
   "display_name": "Python 2",
   "language": "python",
   "name": "python2"
  },
  "language_info": {
   "codemirror_mode": {
    "name": "ipython",
    "version": 2.0
   },
   "file_extension": ".py",
   "mimetype": "text/x-python",
   "name": "python",
   "nbconvert_exporter": "python",
   "pygments_lexer": "ipython2",
   "version": "2.7.6"
  }
 },
 "nbformat": 4,
 "nbformat_minor": 0
}