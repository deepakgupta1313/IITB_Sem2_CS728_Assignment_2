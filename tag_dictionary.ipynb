{
 "cells": [
  {
   "cell_type": "code",
   "execution_count": 1,
   "metadata": {
    "collapsed": true
   },
   "outputs": [],
   "source": [
    "import re\n",
    "import nltk\n",
    "\n",
    "data_folder=\"Datasets/Brown_Corpus/sample/data/\";\n",
    "output_folder=\"Datasets/Brown_Corpus/sample/\";\n",
    "#data_folder=\"Datasets/Brown_Corpus/brown/data/\";\n",
    "#output_folder=\"Datasets/Brown_Corpus/brown/\";"
   ]
  },
  {
   "cell_type": "code",
   "execution_count": 2,
   "metadata": {},
   "outputs": [],
   "source": [
    "tags=set();\n",
    "with open(output_folder+'train2.txt') as infile:\n",
    "    for linee in infile:\n",
    "        linee=[nltk.tag.str2tuple(t) for t in linee.split()];\n",
    "        for i in range(len(linee)):\n",
    "            tags.add(str(linee[i][1]));\n",
    "\n",
    "with open(output_folder+'test2.txt') as infile:\n",
    "    for linee in infile:\n",
    "        linee=[nltk.tag.str2tuple(t) for t in linee.split()];\n",
    "        for i in range(len(linee)):\n",
    "            tags.add(str(linee[i][1]));\n",
    "\n",
    "with open(output_folder+'tags.txt','w') as outfile:\n",
    "    for elem in tags:\n",
    "        outfile.write(str(elem)+\"\\n\");"
   ]
  },
  {
   "cell_type": "code",
   "execution_count": null,
   "metadata": {},
   "outputs": [],
   "source": [
    ""
   ]
  }
 ],
 "metadata": {
  "kernelspec": {
   "display_name": "Python 2",
   "language": "python",
   "name": "python2"
  },
  "language_info": {
   "codemirror_mode": {
    "name": "ipython",
    "version": 2.0
   },
   "file_extension": ".py",
   "mimetype": "text/x-python",
   "name": "python",
   "nbconvert_exporter": "python",
   "pygments_lexer": "ipython2",
   "version": "2.7.6"
  }
 },
 "nbformat": 4,
 "nbformat_minor": 0
}