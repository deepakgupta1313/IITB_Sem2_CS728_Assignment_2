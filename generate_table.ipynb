{
 "cells": [
  {
   "cell_type": "code",
   "execution_count": 8,
   "metadata": {
    "collapsed": true
   },
   "outputs": [],
   "source": [
    "import re\n",
    "import nltk\n",
    "\n",
    "folder=\"Outputs/\";\n",
    "\n",
    "data=[];\n",
    "\n",
    "for i in range(4):\n",
    "    with open(folder+'test4_0'+str(i)+'.ids') as inputfile:\n",
    "        tempp=inputfile.read();\n",
    "        tempp=tempp.split();\n",
    "        #print(tempp);\n",
    "        data.append(tempp);\n",
    "        #print(len(data[i]));"
   ]
  },
  {
   "cell_type": "code",
   "execution_count": 9,
   "metadata": {},
   "outputs": [
    {
     "name": "stdout",
     "output_type": "stream",
     "text": [
      "S No\tTrue Values\tError_01\t\tError_02\tError_03\tMatchings\n\n0\t0\t\t0\t\t0\t0\t0\n1\t0\t\t0\t\t0\t1\t0\n2\t0\t\t0\t\t1\t0\t0\n3\t0\t\t0\t\t1\t1\t4937\n4\t0\t\t1\t\t0\t0\t0\n5\t0\t\t1\t\t0\t1\t4240\n6\t0\t\t1\t\t1\t0\t3965\n7\t0\t\t1\t\t1\t1\t3772\n8\t1\t\t0\t\t0\t0\t0\n9\t1\t\t0\t\t0\t1\t2875\n10\t1\t\t0\t\t1\t0\t2754\n11\t1\t\t0\t\t1\t1\t2526\n12\t1\t\t1\t\t0\t0\t2497\n13\t1\t\t1\t\t0\t1\t2257\n14\t1\t\t1\t\t1\t0\t2198\n15\t1\t\t1\t\t1\t1\t2147\n"
     ]
    }
   ],
   "source": [
    "totall=len(data[0]);\n",
    "s_num=0;\n",
    "\n",
    "print(\"S No\\tTrue Values\\tError_01\\t\\tError_02\\tError_03\\tMatchings\\n\");\n",
    "for i_0 in range(2):\n",
    "    for i_1 in range(2):\n",
    "        for i_2 in range(2):\n",
    "            for i_3 in range(2):\n",
    "                current=[];\n",
    "                matchings=0;\n",
    "                if(i_0==1):\n",
    "                    current.append(data[0]);\n",
    "                if(i_1==1):\n",
    "                    current.append(data[1]);\n",
    "                if(i_2==1):\n",
    "                    current.append(data[2]);\n",
    "                if(i_3==1):\n",
    "                    current.append(data[3]);\n",
    "\n",
    "                lenn=len(current);\n",
    "                #print(lenn);\n",
    "\n",
    "                for i in range(totall):\n",
    "                    flagg=True;\n",
    "                    for j in range(lenn):\n",
    "                        if(current[0][i]!=current[j][i]):\n",
    "                            flagg=False;\n",
    "                    if(lenn>1 and flagg):\n",
    "                        matchings=matchings+1;\n",
    "\n",
    "                print(str(s_num)+\"\\t\"+str(i_0)+\"\\t\\t\"+str(i_1)+\"\\t\\t\"+str(i_2)+\"\\t\"+str(i_3)+\"\\t\"+str(matchings));\n",
    "                s_num=s_num+1;"
   ]
  },
  {
   "cell_type": "code",
   "execution_count": 22,
   "metadata": {},
   "outputs": [],
   "source": [
    ""
   ]
  },
  {
   "cell_type": "code",
   "execution_count": null,
   "metadata": {},
   "outputs": [],
   "source": [
    ""
   ]
  }
 ],
 "metadata": {
  "kernelspec": {
   "display_name": "Python 2",
   "language": "python",
   "name": "python2"
  },
  "language_info": {
   "codemirror_mode": {
    "name": "ipython",
    "version": 2.0
   },
   "file_extension": ".py",
   "mimetype": "text/x-python",
   "name": "python",
   "nbconvert_exporter": "python",
   "pygments_lexer": "ipython2",
   "version": "2.7.6"
  }
 },
 "nbformat": 4,
 "nbformat_minor": 0
}