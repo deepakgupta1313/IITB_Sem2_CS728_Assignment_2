{
 "cells": [
  {
   "cell_type": "code",
   "execution_count": 1,
   "metadata": {
    "collapsed": true
   },
   "outputs": [],
   "source": [
    "import re\n",
    "import nltk\n",
    "import random\n",
    "\n",
    "data_folder=\"Datasets/Brown_Corpus/sample/data/\";\n",
    "output_folder=\"Datasets/Brown_Corpus/sample/\";\n",
    "#data_folder=\"Datasets/Brown_Corpus/brown/data/\";\n",
    "#output_folder=\"Datasets/Brown_Corpus/brown/\";\n",
    "train_percentage=.75;"
   ]
  },
  {
   "cell_type": "code",
   "execution_count": 2,
   "metadata": {},
   "outputs": [
    {
     "name": "stdout",
     "output_type": "stream",
     "text": [
      "['ca08', 'ca06', 'ca02', 'ca03', 'ca09', 'ca10', 'ca04', 'ca07', 'ca01', 'ca05']\n['ca08', 'ca06', 'ca02', 'ca03', 'ca09', 'ca10', 'ca04']\n['ca07', 'ca01', 'ca05']\n"
     ]
    }
   ],
   "source": [
    "from os import listdir\n",
    "from os.path import isfile, join\n",
    "onlyfiles = [f for f in listdir(data_folder) if isfile(join(data_folder, f))]\n",
    "random.shuffle(onlyfiles);\n",
    "num_of_files=len(onlyfiles);\n",
    "num_of_train_files=int(train_percentage*num_of_files);\n",
    "num_of_test_files=num_of_files-num_of_train_files;\n",
    "train_files=[];\n",
    "test_files=[];\n",
    "\n",
    "for i in range(num_of_train_files):\n",
    "    train_files.append(onlyfiles[i]);\n",
    "\n",
    "for i in range(num_of_test_files):\n",
    "    test_files.append(onlyfiles[i+num_of_train_files]);\n",
    "\n",
    "print(onlyfiles);\n",
    "print(train_files);\n",
    "print(test_files);"
   ]
  },
  {
   "cell_type": "code",
   "execution_count": 3,
   "metadata": {},
   "outputs": [],
   "source": [
    "with open(output_folder+'train1.txt', 'w') as outfile:\n",
    "    for fname in train_files:\n",
    "        with open(data_folder+fname) as infile:\n",
    "            for line in infile:\n",
    "                outfile.write(line)\n",
    "\n",
    "        outfile.write('\\n')"
   ]
  },
  {
   "cell_type": "code",
   "execution_count": 4,
   "metadata": {},
   "outputs": [],
   "source": [
    "with open(output_folder+'train2.txt', 'w') as outfile:\n",
    "    with open(output_folder+'train1.txt') as infile:\n",
    "        tempp=infile.read();\n",
    "        tempp=tempp.rstrip('\\r\\n \\t')\n",
    "        tempp=tempp.lstrip('\\r\\n \\t')\n",
    "        tempp=re.sub(r'[\\r\\n]+','\\n',tempp);\n",
    "        tempp=re.sub(r'[\\t ]+',' ',tempp);\n",
    "        tempp=re.sub(r' *[\\n] *','\\n',tempp);\n",
    "        outfile.write(tempp)"
   ]
  },
  {
   "cell_type": "code",
   "execution_count": 5,
   "metadata": {},
   "outputs": [],
   "source": [
    "with open(output_folder+'test1.txt', 'w') as outfile:\n",
    "    for fname in test_files:\n",
    "        with open(data_folder+fname) as infile:\n",
    "            for line in infile:\n",
    "                outfile.write(line)\n",
    "\n",
    "        outfile.write('\\n')"
   ]
  },
  {
   "cell_type": "code",
   "execution_count": 6,
   "metadata": {},
   "outputs": [],
   "source": [
    "with open(output_folder+'test2.txt', 'w') as outfile:\n",
    "    with open(output_folder+'test1.txt') as infile:\n",
    "        tempp=infile.read();\n",
    "        tempp=tempp.rstrip('\\r\\n \\t')\n",
    "        tempp=tempp.lstrip('\\r\\n \\t')\n",
    "        tempp=re.sub(r'[\\r\\n]+','\\n',tempp);\n",
    "        tempp=re.sub(r'[\\t ]+',' ',tempp);\n",
    "        tempp=re.sub(r' *[\\n] *','\\n',tempp);\n",
    "        outfile.write(tempp)"
   ]
  },
  {
   "cell_type": "code",
   "execution_count": null,
   "metadata": {},
   "outputs": [],
   "source": [
    ""
   ]
  }
 ],
 "metadata": {
  "kernelspec": {
   "display_name": "Python 2",
   "language": "python",
   "name": "python2"
  },
  "language_info": {
   "codemirror_mode": {
    "name": "ipython",
    "version": 2.0
   },
   "file_extension": ".py",
   "mimetype": "text/x-python",
   "name": "python",
   "nbconvert_exporter": "python",
   "pygments_lexer": "ipython2",
   "version": "2.7.6"
  }
 },
 "nbformat": 4,
 "nbformat_minor": 0
}