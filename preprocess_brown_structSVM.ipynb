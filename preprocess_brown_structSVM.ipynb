{
 "cells": [
  {
   "cell_type": "code",
   "execution_count": 1,
   "metadata": {
    "collapsed": true
   },
   "outputs": [],
   "source": [
    "import re\n",
    "import nltk\n",
    "\n",
    "data_folder=\"Datasets/Brown_Corpus/sample/data/\";\n",
    "output_folder=\"Datasets/Brown_Corpus/sample/\";\n",
    "#data_folder=\"Datasets/Brown_Corpus/brown/data/\";\n",
    "#output_folder=\"Datasets/Brown_Corpus/brown/\";"
   ]
  },
  {
   "cell_type": "code",
   "execution_count": 2,
   "metadata": {},
   "outputs": [],
   "source": [
    "def isMixed(token):\n",
    "    return (any([ch.isalnum() for ch in token]) and any([not ch.isalnum() for ch in token]))"
   ]
  },
  {
   "cell_type": "code",
   "execution_count": 3,
   "metadata": {},
   "outputs": [],
   "source": [
    "def getFeaturesOne(linee,pos):\n",
    "    lenn=len(linee);\n",
    "    ret=[];\n",
    "    if(pos<0 or pos>=lenn):\n",
    "        tokenn='';\n",
    "    else:\n",
    "        tokenn=linee[pos][0];\n",
    "#1\n",
    "    if(pos<0 or pos>=lenn):\n",
    "        ret.append(0);\n",
    "    else:\n",
    "        ret.append(len(tokenn));\n",
    "#2\n",
    "    if(pos<0 or pos>=lenn):\n",
    "        ret.append(0);\n",
    "    else:\n",
    "        ret.append(int(any([ch.isdigit() for ch in tokenn])));\n",
    "#3\n",
    "    if(pos<0 or pos>=lenn):\n",
    "        ret.append(0);\n",
    "    else:\n",
    "        ret.append(int(tokenn.isupper()));\n",
    "#4\n",
    "    if(pos<0 or pos>=lenn):\n",
    "        ret.append(0);\n",
    "    else:\n",
    "        ret.append(int(tokenn.istitle()));\n",
    "#5\n",
    "    if(pos<0 or pos>=lenn):\n",
    "        ret.append(0);\n",
    "    else:\n",
    "        ret.append(int(isMixed(tokenn)));\n",
    "#6\n",
    "    if(pos<0 or pos>=lenn):\n",
    "        ret.append(0);\n",
    "    else:\n",
    "        ret.append(int(tokenn.isalpha()));\n",
    "#7\n",
    "    if(pos<0 or pos>=lenn):\n",
    "        ret.append(0);\n",
    "    else:\n",
    "        ret.append(int(tokenn.islower()));\n",
    "#8\n",
    "    if(pos<0 or pos>=lenn):\n",
    "        ret.append(0);\n",
    "    else:\n",
    "        ret.append(int(tokenn.isdigit()));\n",
    "#9\n",
    "    if(pos<0 or pos>=lenn):\n",
    "        ret.append(0);\n",
    "    else:\n",
    "        ret.append(int(tokenn.isnumeric()));\n",
    "#10\n",
    "    if(pos<0 or pos>=lenn):\n",
    "        ret.append(0);\n",
    "    else:\n",
    "        ret.append(int(tokenn.endswith(\"ing\")));\n",
    "\n",
    "\n",
    "    return ret;"
   ]
  },
  {
   "cell_type": "code",
   "execution_count": 4,
   "metadata": {},
   "outputs": [],
   "source": [
    "def getFeaturesAll(linee,pos):\n",
    "    ret=[];\n",
    "    ret=ret+getFeaturesOne(linee,pos-1);\n",
    "    ret=ret+getFeaturesOne(linee,pos);\n",
    "    ret=ret+getFeaturesOne(linee,pos+1);\n",
    "    return ret;"
   ]
  },
  {
   "cell_type": "code",
   "execution_count": 5,
   "metadata": {},
   "outputs": [],
   "source": [
    "line_countt=0;\n",
    "word_countt=0;\n",
    "tempp='';\n",
    "with open(output_folder+'train3.shin','w') as outfile:\n",
    "    with open(output_folder+'train2.txt') as infile:\n",
    "        for linee in infile:\n",
    "            line_countt=line_countt+1;\n",
    "            #print(str(line_countt)+linee)\n",
    "            word_countt=0;\n",
    "            linee=[nltk.tag.str2tuple(t) for t in linee.split()];\n",
    "            for i in range(len(linee)):\n",
    "                word_countt=word_countt+1;\n",
    "                featt=getFeaturesAll(linee,i);\n",
    "                tempp=tempp+str(linee[i][1])+\" qid:\"+str(line_countt)+\".\"+str(word_countt)+\" \";\n",
    "                for j in range(len(featt)):\n",
    "                    tempp=tempp+str(j+1)+\":\"+str(featt[j])+\" \";\n",
    "                tempp=tempp+\"# \"+str(linee[i][0]);\n",
    "                tempp=tempp+\"\\n\";\n",
    "            if((line_countt%100)==0):\n",
    "                outfile.write(tempp);\n",
    "                tempp='';\n",
    "    #tempp=tempp.rstrip(\"\\n\");\n",
    "    outfile.write(tempp);"
   ]
  },
  {
   "cell_type": "code",
   "execution_count": 6,
   "metadata": {},
   "outputs": [],
   "source": [
    "line_countt=0;\n",
    "word_countt=0;\n",
    "tempp='';\n",
    "with open(output_folder+'test3.shin','w') as outfile:\n",
    "    with open(output_folder+'test2.txt') as infile:\n",
    "        for linee in infile:\n",
    "            line_countt=line_countt+1;\n",
    "            #print(str(line_countt)+linee)\n",
    "            word_countt=0;\n",
    "            linee=[nltk.tag.str2tuple(t) for t in linee.split()];\n",
    "            for i in range(len(linee)):\n",
    "                word_countt=word_countt+1;\n",
    "                featt=getFeaturesAll(linee,i);\n",
    "                tempp=tempp+str(linee[i][1])+\" qid:\"+str(line_countt)+\".\"+str(word_countt)+\" \";\n",
    "                for j in range(len(featt)):\n",
    "                    tempp=tempp+str(j+1)+\":\"+str(featt[j])+\" \";\n",
    "                tempp=tempp+\"# \"+str(linee[i][0]);\n",
    "                tempp=tempp+\"\\n\";\n",
    "            if((line_countt%100)==0):\n",
    "                outfile.write(tempp);\n",
    "                tempp='';\n",
    "    #tempp=tempp.rstrip(\"\\n\");\n",
    "    outfile.write(tempp);"
   ]
  },
  {
   "cell_type": "code",
   "execution_count": 8,
   "metadata": {},
   "outputs": [],
   "source": [
    ""
   ]
  },
  {
   "cell_type": "code",
   "execution_count": null,
   "metadata": {},
   "outputs": [],
   "source": [
    ""
   ]
  }
 ],
 "metadata": {
  "kernelspec": {
   "display_name": "Python 2",
   "language": "python",
   "name": "python2"
  },
  "language_info": {
   "codemirror_mode": {
    "name": "ipython",
    "version": 2.0
   },
   "file_extension": ".py",
   "mimetype": "text/x-python",
   "name": "python",
   "nbconvert_exporter": "python",
   "pygments_lexer": "ipython2",
   "version": "2.7.6"
  }
 },
 "nbformat": 4,
 "nbformat_minor": 0
}